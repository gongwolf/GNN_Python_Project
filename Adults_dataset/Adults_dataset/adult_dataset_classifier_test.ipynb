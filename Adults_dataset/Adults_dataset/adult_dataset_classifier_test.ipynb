{
 "cells": [
  {
   "cell_type": "markdown",
   "metadata": {},
   "source": [
    "## Load the needed libs and dataset\n",
    "url of the adult dataset:  https://archive.ics.uci.edu/ml/datasets/Adult"
   ]
  },
  {
   "cell_type": "code",
   "execution_count": 1,
   "metadata": {},
   "outputs": [
    {
     "name": "stdout",
     "output_type": "stream",
     "text": [
      "<class 'pandas.core.frame.DataFrame'>\n",
      "RangeIndex: 32561 entries, 0 to 32560\n",
      "Data columns (total 15 columns):\n",
      "age               32561 non-null int64\n",
      "workclass         32561 non-null object\n",
      "fnlwgt            32561 non-null int64\n",
      "education         32561 non-null object\n",
      "education-num     32561 non-null int64\n",
      "marital-status    32561 non-null object\n",
      "occupation        32561 non-null object\n",
      "relationship      32561 non-null object\n",
      "race              32561 non-null object\n",
      "sex               32561 non-null object\n",
      "capital-gain      32561 non-null int64\n",
      "capital-loss      32561 non-null int64\n",
      "hours-per-week    32561 non-null int64\n",
      "native-country    32561 non-null object\n",
      "income            32561 non-null object\n",
      "dtypes: int64(6), object(9)\n",
      "memory usage: 3.7+ MB\n",
      "None\n"
     ]
    }
   ],
   "source": [
    "from sklearn.metrics import accuracy_score\n",
    "import sklearn as sk\n",
    "import numpy as np\n",
    "import pandas as pd\n",
    "from sklearn import tree\n",
    "\n",
    "# names of colnum\n",
    "names = [\n",
    "    'age',\n",
    "    'workclass',\n",
    "    'fnlwgt',\n",
    "    'education',\n",
    "    'education-num',\n",
    "    'marital-status',\n",
    "    'occupation',\n",
    "    'relationship',\n",
    "    'race',\n",
    "    'sex',\n",
    "    'capital-gain',\n",
    "    'capital-loss',\n",
    "    'hours-per-week',\n",
    "    'native-country',\n",
    "    'income',\n",
    "]\n",
    "# read the training data and trim the space in each field\n",
    "train_data = pd.read_csv('data/adult.data', sep=\"\\s*,\\s*\",\n",
    "                         names=names, engine='python')\n",
    "# read the testing data and trim the space in each field\n",
    "test_data = pd.read_csv('data/adult.test', sep=\"\\s*,\\s*\",\n",
    "                        names=names, engine='python')\n",
    "\n",
    "# in the test dataset, the colnum of the 'income' has a surplus period.\n",
    "test_data['income'].replace(\n",
    "    regex=True, inplace=True, to_replace=r'\\.', value=r'')\n",
    "print(train_data.info())"
   ]
  },
  {
   "cell_type": "markdown",
   "metadata": {},
   "source": [
    "## Check the missing values of the traning data"
   ]
  },
  {
   "cell_type": "code",
   "execution_count": 2,
   "metadata": {},
   "outputs": [
    {
     "name": "stdout",
     "output_type": "stream",
     "text": [
      "Missing values in training data\n",
      "workclass: 1836 out of 32561 records\n",
      "occupation: 1843 out of 32561 records\n",
      "native-country: 583 out of 32561 records\n"
     ]
    }
   ],
   "source": [
    "print('Missing values in training data')\n",
    "for i, j in zip(train_data.columns, (train_data.values.astype(str) == '?').sum(axis=0)):\n",
    "    if j > 0:\n",
    "        print(str(i) + ': ' + str(j) + ' out of ' +\n",
    "              str(len(train_data))+' records')\n"
   ]
  },
  {
   "cell_type": "markdown",
   "metadata": {},
   "source": [
    "## Check the missing values of the test data"
   ]
  },
  {
   "cell_type": "code",
   "execution_count": 3,
   "metadata": {},
   "outputs": [
    {
     "name": "stdout",
     "output_type": "stream",
     "text": [
      "Missing values in test data\n",
      "workclass: 963 out of 16281 records\n",
      "occupation: 966 out of 16281 records\n",
      "native-country: 274 out of 16281 records\n"
     ]
    }
   ],
   "source": [
    "print('Missing values in test data')\n",
    "for i, j in zip(test_data.columns, (test_data.values.astype(str) == '?').sum(axis=0)):\n",
    "    if j > 0:\n",
    "        print(str(i) + ': ' + str(j) + ' out of ' +\n",
    "              str(len(test_data))+' records')"
   ]
  },
  {
   "cell_type": "markdown",
   "metadata": {},
   "source": [
    "## print the labels of the colnum \"workclass\""
   ]
  },
  {
   "cell_type": "code",
   "execution_count": 4,
   "metadata": {},
   "outputs": [
    {
     "name": "stdout",
     "output_type": "stream",
     "text": [
      "{'Never-worked', 'Self-emp-inc', 'Private', 'Without-pay', '?', 'State-gov', 'Federal-gov', 'Self-emp-not-inc', 'Local-gov'}\n"
     ]
    }
   ],
   "source": [
    "print(set(train_data['workclass']))"
   ]
  },
  {
   "cell_type": "markdown",
   "metadata": {},
   "source": [
    "## removing the rows have the missing values from the traning dataset"
   ]
  },
  {
   "cell_type": "code",
   "execution_count": 5,
   "metadata": {},
   "outputs": [
    {
     "name": "stdout",
     "output_type": "stream",
     "text": [
      "workclass: before removing: 32561     after removing:30725\n",
      "occupation: before removing: 30725     after removing:30718\n",
      "native-country: before removing: 30718     after removing:30162\n",
      "size of training dataset: before removing: 32561    after removing:30162\n"
     ]
    },
    {
     "name": "stderr",
     "output_type": "stream",
     "text": [
      "/home/gqxwolf/mydata/GNN_Projects/lib/python3.6/site-packages/pandas/core/ops/__init__.py:1115: FutureWarning: elementwise comparison failed; returning scalar instead, but in the future will perform elementwise comparison\n",
      "  result = method(y)\n"
     ]
    }
   ],
   "source": [
    "clean_train_data = train_data.copy()\n",
    "befor_train = len(clean_train_data)\n",
    "for colnum in names:\n",
    "    be = len(clean_train_data)\n",
    "    clean_train_data = clean_train_data[(clean_train_data[colnum] != '?')]\n",
    "    af = len(clean_train_data)\n",
    "    if be != af:\n",
    "        print(\"{}: before removing: {}     after removing:{}\".format(colnum, be, af))\n",
    "after_train = len(clean_train_data)\n",
    "print(\"size of training dataset: before removing: {}    after removing:{}\".format(\n",
    "    befor_train, after_train))"
   ]
  },
  {
   "cell_type": "markdown",
   "metadata": {},
   "source": [
    "## removing the rows have the missing values from the test dataset"
   ]
  },
  {
   "cell_type": "code",
   "execution_count": 6,
   "metadata": {},
   "outputs": [
    {
     "name": "stdout",
     "output_type": "stream",
     "text": [
      "workclass: before removing: 16281     after removing:15318\n",
      "occupation: before removing: 15318     after removing:15315\n",
      "native-country: before removing: 15315     after removing:15060\n",
      "size of test dataset: before removing: 16281     after removing:15060\n"
     ]
    }
   ],
   "source": [
    "clean_test_data = test_data.copy()\n",
    "befor_test = len(clean_test_data)\n",
    "for colnum in names:\n",
    "    be = len(clean_test_data)\n",
    "    clean_test_data = clean_test_data[(clean_test_data[colnum] != '?')]\n",
    "    af = len(clean_test_data)\n",
    "    if be != af:\n",
    "        print(\"{}: before removing: {}     after removing:{}\".format(colnum, be, af))\n",
    "after_test = len(clean_test_data)\n",
    "print(\"size of test dataset: before removing: {}     after removing:{}\".format(\n",
    "    befor_test, after_test))"
   ]
  },
  {
   "cell_type": "markdown",
   "metadata": {},
   "source": [
    "## convert the categorical value to int\n",
    "* build the mapping from categorical string to nominal value\n",
    "* call the df.replace function to Encoding Categorical Values (https://pbpython.com/categorical-encoding.html)"
   ]
  },
  {
   "cell_type": "code",
   "execution_count": 7,
   "metadata": {},
   "outputs": [
    {
     "name": "stdout",
     "output_type": "stream",
     "text": [
      "workclass {'Self-emp-inc': 0, 'Private': 1, 'Without-pay': 2, 'State-gov': 3, 'Federal-gov': 4, 'Self-emp-not-inc': 5, 'Local-gov': 6}\n",
      "education {'Masters': 0, 'Preschool': 1, '1st-4th': 2, 'Prof-school': 3, '10th': 4, '7th-8th': 5, 'HS-grad': 6, 'Assoc-voc': 7, 'Bachelors': 8, '9th': 9, '11th': 10, 'Doctorate': 11, 'Assoc-acdm': 12, 'Some-college': 13, '12th': 14, '5th-6th': 15}\n",
      "marital-status {'Never-married': 0, 'Separated': 1, 'Divorced': 2, 'Married-civ-spouse': 3, 'Married-AF-spouse': 4, 'Widowed': 5, 'Married-spouse-absent': 6}\n",
      "occupation {'Adm-clerical': 0, 'Armed-Forces': 1, 'Craft-repair': 2, 'Priv-house-serv': 3, 'Handlers-cleaners': 4, 'Transport-moving': 5, 'Other-service': 6, 'Machine-op-inspct': 7, 'Protective-serv': 8, 'Tech-support': 9, 'Sales': 10, 'Exec-managerial': 11, 'Prof-specialty': 12, 'Farming-fishing': 13}\n",
      "relationship {'Other-relative': 0, 'Unmarried': 1, 'Wife': 2, 'Own-child': 3, 'Not-in-family': 4, 'Husband': 5}\n",
      "race {'White': 0, 'Other': 1, 'Black': 2, 'Asian-Pac-Islander': 3, 'Amer-Indian-Eskimo': 4}\n",
      "sex {'Male': 0, 'Female': 1}\n",
      "native-country {'United-States': 0, 'India': 1, 'Cuba': 2, 'Taiwan': 3, 'England': 4, 'Hong': 5, 'Mexico': 6, 'Greece': 7, 'Yugoslavia': 8, 'France': 9, 'Nicaragua': 10, 'South': 11, 'Haiti': 12, 'China': 13, 'Columbia': 14, 'Peru': 15, 'Philippines': 16, 'Honduras': 17, 'Outlying-US(Guam-USVI-etc)': 18, 'Cambodia': 19, 'Iran': 20, 'Hungary': 21, 'El-Salvador': 22, 'Laos': 23, 'Ecuador': 24, 'Japan': 25, 'Ireland': 26, 'Italy': 27, 'Portugal': 28, 'Jamaica': 29, 'Puerto-Rico': 30, 'Vietnam': 31, 'Canada': 32, 'Trinadad&Tobago': 33, 'Poland': 34, 'Dominican-Republic': 35, 'Scotland': 36, 'Guatemala': 37, 'Germany': 38, 'Holand-Netherlands': 39, 'Thailand': 40}\n",
      "income {'>50K': 0, '<=50K': 1}\n"
     ]
    }
   ],
   "source": [
    "cat_to_nom_mapping = {}\n",
    "for col in clean_test_data.columns:\n",
    "    if clean_train_data[col].dtype == object:\n",
    "        # set of labels of the categorical columns\n",
    "        labels = set(clean_train_data[col])\n",
    "        mapping_labels = {key: value for value, key in enumerate(labels)}\n",
    "        print(col, mapping_labels)\n",
    "        cat_to_nom_mapping.update({col: mapping_labels})\n",
    "\n",
    "# print(cat_to_nom_mapping)\n",
    "clean_train_data.replace(cat_to_nom_mapping, inplace=True)\n",
    "clean_test_data.replace(cat_to_nom_mapping, inplace=True)\n",
    "# print(clean_train_data.info())\n",
    "# print(clean_test_data.info())"
   ]
  },
  {
   "cell_type": "markdown",
   "metadata": {},
   "source": [
    " ## Decision Tree Model\n",
    " link: https://scikit-learn.org/stable/modules/tree.html"
   ]
  },
  {
   "cell_type": "code",
   "execution_count": 8,
   "metadata": {},
   "outputs": [
    {
     "name": "stdout",
     "output_type": "stream",
     "text": [
      "(30162, 14) (30162, 1) (15060, 14) (15060, 1)\n",
      "[all features] Accuracy: 80.88%\n",
      "[age] Accuracy: 75.43%\n",
      "[workclass] Accuracy: 75.78%\n",
      "[fnlwgt] Accuracy: 66.00%\n",
      "[education] Accuracy: 77.16%\n",
      "[education-num] Accuracy: 77.16%\n",
      "[marital-status] Accuracy: 75.43%\n",
      "[occupation] Accuracy: 75.43%\n",
      "[relationship] Accuracy: 75.43%\n",
      "[race] Accuracy: 75.43%\n",
      "[sex] Accuracy: 75.43%\n",
      "[capital-gain] Accuracy: 80.56%\n",
      "[capital-loss] Accuracy: 77.65%\n",
      "[hours-per-week] Accuracy: 75.44%\n",
      "[native-country] Accuracy: 75.43%\n",
      "(30162, 12) (30162, 1) (15060, 12) (15060, 1)\n",
      "[except race and sex] Accuracy: 80.80%\n"
     ]
    }
   ],
   "source": [
    "# all features\n",
    "# Split the data frame\n",
    "clean_train_data_X = clean_train_data.iloc[:, :-1]\n",
    "clean_train_data_Y = clean_train_data.iloc[:, -1:]\n",
    "\n",
    "clean_test_data_X = clean_test_data.iloc[:, :-1]\n",
    "clean_test_data_Y = clean_test_data.iloc[:, -1:]\n",
    "print(clean_train_data_X.shape, clean_train_data_Y.shape,\n",
    "      clean_test_data_X.shape, clean_test_data_Y.shape)\n",
    "\n",
    "\n",
    "# Train and predict the model\n",
    "clf = tree.DecisionTreeClassifier()\n",
    "clf.fit(clean_train_data_X, clean_train_data_Y)\n",
    "y_pred = clf.predict(clean_test_data_X)\n",
    "print('[all features] Accuracy: {:0.2%}' .format(\n",
    "    accuracy_score(clean_test_data_Y, y_pred)))\n",
    "\n",
    "# single features\n",
    "for col in clean_train_data_X.columns:\n",
    "    clean_train_data_single_X = clean_train_data_X[col].values.reshape(-1,1)\n",
    "    clean_test_data_single_X = clean_test_data[col].values.reshape(-1,1)\n",
    "    clf = tree.DecisionTreeClassifier()\n",
    "    clf.fit(clean_train_data_single_X, clean_train_data_Y)\n",
    "    y_pred = clf.predict(clean_test_data_single_X)\n",
    "    print('[{}] Accuracy: {:0.2%}' .format(\n",
    "        col, accuracy_score(clean_test_data_Y, y_pred)))\n",
    "\n",
    "# except race and sex\n",
    "clean_train_data_except_X = clean_train_data_X[map(\n",
    "    lambda x:x not in ['race', 'sex'], list(clean_train_data_X.columns))].copy()\n",
    "clean_test_data_except_X = clean_test_data_X[map(\n",
    "    lambda x:x not in ['race', 'sex'], list(clean_test_data_X.columns))].copy()\n",
    "print(clean_train_data_except_X.shape, clean_train_data_Y.shape,\n",
    "      clean_test_data_except_X.shape, clean_test_data_Y.shape)\n",
    "clf = tree.DecisionTreeClassifier()\n",
    "clf.fit(clean_train_data_except_X, clean_train_data_Y)\n",
    "y_pred = clf.predict(clean_test_data_except_X)\n",
    "print('[except race and sex] Accuracy: {:0.2%}' .format(\n",
    "    accuracy_score(clean_test_data_Y, y_pred)))"
   ]
  },
  {
   "cell_type": "markdown",
   "metadata": {},
   "source": [
    "## Random Forest Model\n",
    "link: https://scikit-learn.org/stable/modules/generated/sklearn.ensemble.RandomForestClassifier.html"
   ]
  },
  {
   "cell_type": "code",
   "execution_count": 9,
   "metadata": {},
   "outputs": [
    {
     "name": "stdout",
     "output_type": "stream",
     "text": [
      "(30162, 14) (30162, 1) (15060, 14) (15060, 1)\n",
      "[all features] Accuracy: 85.24%\n",
      "[age] Accuracy: 75.43%\n",
      "[workclass] Accuracy: 75.78%\n",
      "[fnlwgt] Accuracy: 68.22%\n",
      "[education] Accuracy: 77.16%\n",
      "[education-num] Accuracy: 77.16%\n",
      "[marital-status] Accuracy: 75.43%\n",
      "[occupation] Accuracy: 75.43%\n",
      "[relationship] Accuracy: 75.43%\n",
      "[race] Accuracy: 75.43%\n",
      "[sex] Accuracy: 75.43%\n",
      "[capital-gain] Accuracy: 80.56%\n",
      "[capital-loss] Accuracy: 77.65%\n",
      "[hours-per-week] Accuracy: 75.44%\n",
      "[native-country] Accuracy: 75.43%\n",
      "(30162, 12) (30162, 1) (15060, 12) (15060, 1)\n",
      "[except race and sex] Accuracy: 84.95%\n"
     ]
    }
   ],
   "source": [
    "from sklearn.ensemble import RandomForestClassifier\n",
    "\n",
    "# all features\n",
    "# Split the data frame\n",
    "clean_train_data_X = clean_train_data.iloc[:, :-1]\n",
    "clean_train_data_Y = clean_train_data.iloc[:, -1:]\n",
    "\n",
    "clean_test_data_X = clean_test_data.iloc[:, :-1]\n",
    "clean_test_data_Y = clean_test_data.iloc[:, -1:]\n",
    "print(clean_train_data_X.shape, clean_train_data_Y.shape,\n",
    "      clean_test_data_X.shape, clean_test_data_Y.shape)\n",
    "\n",
    "\n",
    "# Train and predict the model\n",
    "# Add the .values.ravel() to Y to avoid the warning\n",
    "clf = RandomForestClassifier(n_estimators=100)\n",
    "clf.fit(clean_train_data_X, clean_train_data_Y.values.ravel())\n",
    "y_pred = clf.predict(clean_test_data_X)\n",
    "print('[all features] Accuracy: {:0.2%}' .format(\n",
    "    accuracy_score(clean_test_data_Y, y_pred)))\n",
    "\n",
    "# single features\n",
    "for col in clean_train_data_X.columns:\n",
    "    clean_train_data_single_X = clean_train_data_X[col].values.reshape(-1,1)\n",
    "    clean_test_data_single_X = clean_test_data[col].values.reshape(-1,1)\n",
    "    clf = RandomForestClassifier(n_estimators=100)\n",
    "    clf.fit(clean_train_data_single_X, clean_train_data_Y.values.ravel())\n",
    "    y_pred = clf.predict(clean_test_data_single_X)\n",
    "    print('[{}] Accuracy: {:0.2%}' .format(\n",
    "        col, accuracy_score(clean_test_data_Y, y_pred)))\n",
    "\n",
    "# except race and sex\n",
    "clean_train_data_except_X = clean_train_data_X[map(\n",
    "    lambda x:x not in ['race', 'sex'], list(clean_train_data_X.columns))].copy()\n",
    "clean_test_data_except_X = clean_test_data_X[map(\n",
    "    lambda x:x not in ['race', 'sex'], list(clean_test_data_X.columns))].copy()\n",
    "print(clean_train_data_except_X.shape, clean_train_data_Y.shape,\n",
    "      clean_test_data_except_X.shape, clean_test_data_Y.shape)\n",
    "clf = RandomForestClassifier(n_estimators=100)\n",
    "clf.fit(clean_train_data_except_X, clean_train_data_Y.values.ravel())\n",
    "y_pred = clf.predict(clean_test_data_except_X)\n",
    "print('[except race and sex] Accuracy: {:0.2%}' .format(\n",
    "    accuracy_score(clean_test_data_Y, y_pred)))"
   ]
  },
  {
   "cell_type": "markdown",
   "metadata": {},
   "source": [
    "## SVM\n",
    "link: https://scikit-learn.org/stable/modules/generated/sklearn.svm.SVC.html"
   ]
  },
  {
   "cell_type": "code",
   "execution_count": 10,
   "metadata": {},
   "outputs": [
    {
     "name": "stdout",
     "output_type": "stream",
     "text": [
      "(30162, 14) (30162, 1) (15060, 14) (15060, 1)\n",
      "[all features] Accuracy: 79.08%\n",
      "[age] Accuracy: 75.43%\n",
      "[workclass] Accuracy: 75.78%\n",
      "[fnlwgt] Accuracy: 75.43%\n",
      "[education] Accuracy: 75.85%\n",
      "[education-num] Accuracy: 77.16%\n",
      "[marital-status] Accuracy: 75.43%\n",
      "[occupation] Accuracy: 75.43%\n",
      "[relationship] Accuracy: 75.43%\n",
      "[race] Accuracy: 75.43%\n",
      "[sex] Accuracy: 75.43%\n",
      "[capital-gain] Accuracy: 79.47%\n",
      "[capital-loss] Accuracy: 76.87%\n",
      "[hours-per-week] Accuracy: 75.43%\n",
      "[native-country] Accuracy: 75.43%\n",
      "(30162, 12) (30162, 1) (15060, 12) (15060, 1)\n",
      "[except race and sex] Accuracy: 79.08%\n"
     ]
    }
   ],
   "source": [
    "from sklearn.svm import SVC\n",
    "\n",
    "# all features\n",
    "# Split the data frame\n",
    "clean_train_data_X = clean_train_data.iloc[:, :-1]\n",
    "clean_train_data_Y = clean_train_data.iloc[:, -1:]\n",
    "\n",
    "clean_test_data_X = clean_test_data.iloc[:, :-1]\n",
    "clean_test_data_Y = clean_test_data.iloc[:, -1:]\n",
    "print(clean_train_data_X.shape, clean_train_data_Y.shape,\n",
    "      clean_test_data_X.shape, clean_test_data_Y.shape)\n",
    "\n",
    "\n",
    "# Train and predict the model\n",
    "# Add the .values.ravel() to Y to avoid the warning\n",
    "clf = SVC(gamma='scale')\n",
    "clf.fit(clean_train_data_X, clean_train_data_Y.values.ravel())\n",
    "y_pred = clf.predict(clean_test_data_X)\n",
    "print('[all features] Accuracy: {:0.2%}' .format(\n",
    "    accuracy_score(clean_test_data_Y, y_pred)))\n",
    "\n",
    "# single features\n",
    "for col in clean_train_data_X.columns:\n",
    "    clean_train_data_single_X = clean_train_data_X[col].values.reshape(-1,1)\n",
    "    clean_test_data_single_X = clean_test_data[col].values.reshape(-1,1)\n",
    "    clf = SVC(gamma='scale')\n",
    "    clf.fit(clean_train_data_single_X, clean_train_data_Y.values.ravel())\n",
    "    y_pred = clf.predict(clean_test_data_single_X)\n",
    "    print('[{}] Accuracy: {:0.2%}' .format(\n",
    "        col, accuracy_score(clean_test_data_Y, y_pred)))\n",
    "\n",
    "# except race and sex\n",
    "clean_train_data_except_X = clean_train_data_X[map(\n",
    "    lambda x:x not in ['race', 'sex'], list(clean_train_data_X.columns))].copy()\n",
    "clean_test_data_except_X = clean_test_data_X[map(\n",
    "    lambda x:x not in ['race', 'sex'], list(clean_test_data_X.columns))].copy()\n",
    "print(clean_train_data_except_X.shape, clean_train_data_Y.shape,\n",
    "      clean_test_data_except_X.shape, clean_test_data_Y.shape)\n",
    "clf = SVC(gamma='scale')\n",
    "clf.fit(clean_train_data_except_X, clean_train_data_Y.values.ravel())\n",
    "y_pred = clf.predict(clean_test_data_except_X)\n",
    "print('[except race and sex] Accuracy: {:0.2%}' .format(\n",
    "    accuracy_score(clean_test_data_Y, y_pred)))"
   ]
  },
  {
   "cell_type": "markdown",
   "metadata": {},
   "source": [
    " ## KNN\n",
    " link:https://scikit-learn.org/stable/modules/generated/sklearn.neighbors.KNeighborsClassifier.html"
   ]
  },
  {
   "cell_type": "code",
   "execution_count": 11,
   "metadata": {},
   "outputs": [
    {
     "name": "stdout",
     "output_type": "stream",
     "text": [
      "(30162, 14) (30162, 1) (15060, 14) (15060, 1)\n",
      "[all features] Accuracy: 77.05%\n",
      "[age] Accuracy: 70.23%\n",
      "[workclass] Accuracy: 75.78%\n",
      "[fnlwgt] Accuracy: 71.18%\n",
      "[education] Accuracy: 76.71%\n",
      "[education-num] Accuracy: 74.36%\n",
      "[marital-status] Accuracy: 75.41%\n",
      "[occupation] Accuracy: 67.66%\n",
      "[relationship] Accuracy: 71.53%\n",
      "[race] Accuracy: 75.43%\n",
      "[sex] Accuracy: 75.43%\n",
      "[capital-gain] Accuracy: 27.62%\n",
      "[capital-loss] Accuracy: 77.62%\n",
      "[hours-per-week] Accuracy: 46.37%\n",
      "[native-country] Accuracy: 75.17%\n",
      "(30162, 12) (30162, 1) (15060, 12) (15060, 1)\n",
      "[except race and sex] Accuracy: 79.08%\n"
     ]
    }
   ],
   "source": [
    "from sklearn.neighbors import KNeighborsClassifier\n",
    "\n",
    "# all features\n",
    "# Split the data frame\n",
    "clean_train_data_X = clean_train_data.iloc[:, :-1]\n",
    "clean_train_data_Y = clean_train_data.iloc[:, -1:]\n",
    "\n",
    "clean_test_data_X = clean_test_data.iloc[:, :-1]\n",
    "clean_test_data_Y = clean_test_data.iloc[:, -1:]\n",
    "print(clean_train_data_X.shape, clean_train_data_Y.shape,\n",
    "      clean_test_data_X.shape, clean_test_data_Y.shape)\n",
    "\n",
    "\n",
    "# Train and predict the model\n",
    "# Add the .values.ravel() to Y to avoid the warning\n",
    "neigh = KNeighborsClassifier()\n",
    "neigh.fit(clean_train_data_X, clean_train_data_Y.values.ravel())\n",
    "y_pred = neigh.predict(clean_test_data_X)\n",
    "print('[all features] Accuracy: {:0.2%}' .format(\n",
    "    accuracy_score(clean_test_data_Y, y_pred)))\n",
    "\n",
    "# single features\n",
    "for col in clean_train_data_X.columns:\n",
    "    clean_train_data_single_X = clean_train_data_X[col].values.reshape(-1,1)\n",
    "    clean_test_data_single_X = clean_test_data[col].values.reshape(-1,1)\n",
    "    neigh = KNeighborsClassifier()\n",
    "    neigh.fit(clean_train_data_single_X, clean_train_data_Y.values.ravel())\n",
    "    y_pred = neigh.predict(clean_test_data_single_X)\n",
    "    print('[{}] Accuracy: {:0.2%}' .format(\n",
    "        col, accuracy_score(clean_test_data_Y, y_pred)))\n",
    "\n",
    "# except race and sex\n",
    "clean_train_data_except_X = clean_train_data_X[map(\n",
    "    lambda x:x not in ['race', 'sex'], list(clean_train_data_X.columns))].copy()\n",
    "clean_test_data_except_X = clean_test_data_X[map(\n",
    "    lambda x:x not in ['race', 'sex'], list(clean_test_data_X.columns))].copy()\n",
    "print(clean_train_data_except_X.shape, clean_train_data_Y.shape,\n",
    "      clean_test_data_except_X.shape, clean_test_data_Y.shape)\n",
    "neigh = KNeighborsClassifier()\n",
    "neigh.fit(clean_train_data_except_X, clean_train_data_Y.values.ravel())\n",
    "y_pred = clf.predict(clean_test_data_except_X)\n",
    "print('[except race and sex] Accuracy: {:0.2%}' .format(\n",
    "    accuracy_score(clean_test_data_Y, y_pred)))\n",
    "\n",
    "#%%\n"
   ]
  },
  {
   "cell_type": "code",
   "execution_count": null,
   "metadata": {},
   "outputs": [],
   "source": []
  }
 ],
 "metadata": {
  "anaconda-cloud": {},
  "kernelspec": {
   "display_name": "Python 3",
   "language": "python",
   "name": "python3"
  },
  "language_info": {
   "codemirror_mode": {
    "name": "ipython",
    "version": 3
   },
   "file_extension": ".py",
   "mimetype": "text/x-python",
   "name": "python",
   "nbconvert_exporter": "python",
   "pygments_lexer": "ipython3",
   "version": "3.6.8"
  }
 },
 "nbformat": 4,
 "nbformat_minor": 1
}
